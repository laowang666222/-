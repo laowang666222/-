{
 "cells": [
  {
   "cell_type": "markdown",
   "metadata": {},
   "source": [
    "# Alzheimer 数据集探索和预处理"
   ]
  },
  {
   "cell_type": "markdown",
   "metadata": {},
   "source": [
    "## 1 导入依赖库"
   ]
  },
  {
   "cell_type": "code",
   "execution_count": 1,
   "metadata": {},
   "outputs": [],
   "source": [
    "import numpy as np\n",
    "import pandas as pd\n",
    "import matplotlib.pyplot as plt"
   ]
  },
  {
   "cell_type": "markdown",
   "metadata": {},
   "source": [
    "## 2 导入数据集"
   ]
  },
  {
   "cell_type": "code",
   "execution_count": 5,
   "metadata": {},
   "outputs": [],
   "source": [
    "df = pd.read_csv('Alzheimer Disease and Healthy Aging Data In US.csv',low_memory=False)"
   ]
  },
  {
   "cell_type": "code",
   "execution_count": 6,
   "metadata": {},
   "outputs": [
    {
     "data": {
      "text/plain": [
       "YearStart                      int64\n",
       "YearEnd                        int64\n",
       "LocationAbbr                  object\n",
       "LocationDesc                  object\n",
       "Datasource                    object\n",
       "Class                         object\n",
       "Topic                         object\n",
       "Question                      object\n",
       "Data_Value_Unit               object\n",
       "DataValueTypeID               object\n",
       "Data_Value_Type               object\n",
       "Data_Value                   float64\n",
       "Data_Value_Alt               float64\n",
       "Low_Confidence_Limit          object\n",
       "High_Confidence_Limit         object\n",
       "Sample_Size                  float64\n",
       "StratificationCategory1       object\n",
       "Stratification1               object\n",
       "StratificationCategory2       object\n",
       "Stratification2               object\n",
       "Geolocation                   object\n",
       "ClassID                       object\n",
       "TopicID                       object\n",
       "QuestionID                    object\n",
       "LocationID                     int64\n",
       "StratificationCategoryID1     object\n",
       "StratificationID1             object\n",
       "StratificationCategoryID2     object\n",
       "StratificationID2             object\n",
       "dtype: object"
      ]
     },
     "execution_count": 6,
     "metadata": {},
     "output_type": "execute_result"
    }
   ],
   "source": [
    "df.dtypes"
   ]
  },
  {
   "cell_type": "code",
   "execution_count": 4,
   "metadata": {
    "scrolled": true
   },
   "outputs": [
    {
     "data": {
      "text/html": [
       "<div>\n",
       "<style scoped>\n",
       "    .dataframe tbody tr th:only-of-type {\n",
       "        vertical-align: middle;\n",
       "    }\n",
       "\n",
       "    .dataframe tbody tr th {\n",
       "        vertical-align: top;\n",
       "    }\n",
       "\n",
       "    .dataframe thead th {\n",
       "        text-align: right;\n",
       "    }\n",
       "</style>\n",
       "<table border=\"1\" class=\"dataframe\">\n",
       "  <thead>\n",
       "    <tr style=\"text-align: right;\">\n",
       "      <th></th>\n",
       "      <th>YearStart</th>\n",
       "      <th>YearEnd</th>\n",
       "      <th>LocationAbbr</th>\n",
       "      <th>LocationDesc</th>\n",
       "      <th>Datasource</th>\n",
       "      <th>Class</th>\n",
       "      <th>Topic</th>\n",
       "      <th>Question</th>\n",
       "      <th>Data_Value_Unit</th>\n",
       "      <th>DataValueTypeID</th>\n",
       "      <th>...</th>\n",
       "      <th>Stratification2</th>\n",
       "      <th>Geolocation</th>\n",
       "      <th>ClassID</th>\n",
       "      <th>TopicID</th>\n",
       "      <th>QuestionID</th>\n",
       "      <th>LocationID</th>\n",
       "      <th>StratificationCategoryID1</th>\n",
       "      <th>StratificationID1</th>\n",
       "      <th>StratificationCategoryID2</th>\n",
       "      <th>StratificationID2</th>\n",
       "    </tr>\n",
       "  </thead>\n",
       "  <tbody>\n",
       "    <tr>\n",
       "      <td>0</td>\n",
       "      <td>2020</td>\n",
       "      <td>2020</td>\n",
       "      <td>HI</td>\n",
       "      <td>Hawaii</td>\n",
       "      <td>BRFSS</td>\n",
       "      <td>Overall Health</td>\n",
       "      <td>Arthritis among older adults</td>\n",
       "      <td>Percentage of older adults ever told they have...</td>\n",
       "      <td>%</td>\n",
       "      <td>PRCTG</td>\n",
       "      <td>...</td>\n",
       "      <td>NaN</td>\n",
       "      <td>POINT (-157.8577494 21.30485044)</td>\n",
       "      <td>C01</td>\n",
       "      <td>TOC11</td>\n",
       "      <td>Q43</td>\n",
       "      <td>15</td>\n",
       "      <td>AGE</td>\n",
       "      <td>5064</td>\n",
       "      <td>OVERALL</td>\n",
       "      <td>OVERALL</td>\n",
       "    </tr>\n",
       "    <tr>\n",
       "      <td>1</td>\n",
       "      <td>2017</td>\n",
       "      <td>2017</td>\n",
       "      <td>ID</td>\n",
       "      <td>Idaho</td>\n",
       "      <td>BRFSS</td>\n",
       "      <td>Mental Health</td>\n",
       "      <td>Lifetime diagnosis of depression</td>\n",
       "      <td>Percentage of older adults with a lifetime dia...</td>\n",
       "      <td>%</td>\n",
       "      <td>PRCTG</td>\n",
       "      <td>...</td>\n",
       "      <td>NaN</td>\n",
       "      <td>POINT (-114.36373 43.68263001)</td>\n",
       "      <td>C05</td>\n",
       "      <td>TMC03</td>\n",
       "      <td>Q27</td>\n",
       "      <td>16</td>\n",
       "      <td>AGE</td>\n",
       "      <td>5064</td>\n",
       "      <td>OVERALL</td>\n",
       "      <td>OVERALL</td>\n",
       "    </tr>\n",
       "    <tr>\n",
       "      <td>2</td>\n",
       "      <td>2017</td>\n",
       "      <td>2017</td>\n",
       "      <td>ID</td>\n",
       "      <td>Idaho</td>\n",
       "      <td>BRFSS</td>\n",
       "      <td>Overall Health</td>\n",
       "      <td>Arthritis among older adults</td>\n",
       "      <td>Percentage of older adults ever told they have...</td>\n",
       "      <td>%</td>\n",
       "      <td>PRCTG</td>\n",
       "      <td>...</td>\n",
       "      <td>NaN</td>\n",
       "      <td>POINT (-114.36373 43.68263001)</td>\n",
       "      <td>C01</td>\n",
       "      <td>TOC11</td>\n",
       "      <td>Q43</td>\n",
       "      <td>16</td>\n",
       "      <td>AGE</td>\n",
       "      <td>5064</td>\n",
       "      <td>OVERALL</td>\n",
       "      <td>OVERALL</td>\n",
       "    </tr>\n",
       "    <tr>\n",
       "      <td>3</td>\n",
       "      <td>2018</td>\n",
       "      <td>2018</td>\n",
       "      <td>ID</td>\n",
       "      <td>Idaho</td>\n",
       "      <td>BRFSS</td>\n",
       "      <td>Overall Health</td>\n",
       "      <td>Physically unhealthy days (mean number of days)</td>\n",
       "      <td>Physically unhealthy days (mean number of days...</td>\n",
       "      <td>Number</td>\n",
       "      <td>MEAN</td>\n",
       "      <td>...</td>\n",
       "      <td>NaN</td>\n",
       "      <td>POINT (-114.36373 43.68263001)</td>\n",
       "      <td>C01</td>\n",
       "      <td>TOC01</td>\n",
       "      <td>Q08</td>\n",
       "      <td>16</td>\n",
       "      <td>AGE</td>\n",
       "      <td>5064</td>\n",
       "      <td>OVERALL</td>\n",
       "      <td>OVERALL</td>\n",
       "    </tr>\n",
       "    <tr>\n",
       "      <td>4</td>\n",
       "      <td>2020</td>\n",
       "      <td>2020</td>\n",
       "      <td>IN</td>\n",
       "      <td>Indiana</td>\n",
       "      <td>BRFSS</td>\n",
       "      <td>Mental Health</td>\n",
       "      <td>Lifetime diagnosis of depression</td>\n",
       "      <td>Percentage of older adults with a lifetime dia...</td>\n",
       "      <td>%</td>\n",
       "      <td>PRCTG</td>\n",
       "      <td>...</td>\n",
       "      <td>Male</td>\n",
       "      <td>POINT (-86.14996019 39.76691045)</td>\n",
       "      <td>C05</td>\n",
       "      <td>TMC03</td>\n",
       "      <td>Q27</td>\n",
       "      <td>18</td>\n",
       "      <td>AGE</td>\n",
       "      <td>AGE_OVERALL</td>\n",
       "      <td>GENDER</td>\n",
       "      <td>MALE</td>\n",
       "    </tr>\n",
       "    <tr>\n",
       "      <td>5</td>\n",
       "      <td>2020</td>\n",
       "      <td>2020</td>\n",
       "      <td>IA</td>\n",
       "      <td>Iowa</td>\n",
       "      <td>BRFSS</td>\n",
       "      <td>Overall Health</td>\n",
       "      <td>Prevalence of sufficient sleep</td>\n",
       "      <td>Percentage of older adults getting sufficient ...</td>\n",
       "      <td>%</td>\n",
       "      <td>PRCTG</td>\n",
       "      <td>...</td>\n",
       "      <td>NaN</td>\n",
       "      <td>POINT (-93.81649056 42.46940091)</td>\n",
       "      <td>C01</td>\n",
       "      <td>TOC09</td>\n",
       "      <td>Q34</td>\n",
       "      <td>19</td>\n",
       "      <td>AGE</td>\n",
       "      <td>AGE_OVERALL</td>\n",
       "      <td>OVERALL</td>\n",
       "      <td>OVERALL</td>\n",
       "    </tr>\n",
       "    <tr>\n",
       "      <td>6</td>\n",
       "      <td>2020</td>\n",
       "      <td>2020</td>\n",
       "      <td>IA</td>\n",
       "      <td>Iowa</td>\n",
       "      <td>BRFSS</td>\n",
       "      <td>Overall Health</td>\n",
       "      <td>Fair or poor health among older adults with ar...</td>\n",
       "      <td>Fair or poor health among older adults with do...</td>\n",
       "      <td>%</td>\n",
       "      <td>PRCTG</td>\n",
       "      <td>...</td>\n",
       "      <td>NaN</td>\n",
       "      <td>POINT (-93.81649056 42.46940091)</td>\n",
       "      <td>C01</td>\n",
       "      <td>TOC13</td>\n",
       "      <td>Q45</td>\n",
       "      <td>19</td>\n",
       "      <td>AGE</td>\n",
       "      <td>AGE_OVERALL</td>\n",
       "      <td>OVERALL</td>\n",
       "      <td>OVERALL</td>\n",
       "    </tr>\n",
       "    <tr>\n",
       "      <td>7</td>\n",
       "      <td>2019</td>\n",
       "      <td>2019</td>\n",
       "      <td>IA</td>\n",
       "      <td>Iowa</td>\n",
       "      <td>BRFSS</td>\n",
       "      <td>Mental Health</td>\n",
       "      <td>Frequent mental distress</td>\n",
       "      <td>Percentage of older adults who are experiencin...</td>\n",
       "      <td>%</td>\n",
       "      <td>PRCTG</td>\n",
       "      <td>...</td>\n",
       "      <td>NaN</td>\n",
       "      <td>POINT (-93.81649056 42.46940091)</td>\n",
       "      <td>C05</td>\n",
       "      <td>TMC01</td>\n",
       "      <td>Q03</td>\n",
       "      <td>19</td>\n",
       "      <td>AGE</td>\n",
       "      <td>AGE_OVERALL</td>\n",
       "      <td>OVERALL</td>\n",
       "      <td>OVERALL</td>\n",
       "    </tr>\n",
       "    <tr>\n",
       "      <td>8</td>\n",
       "      <td>2019</td>\n",
       "      <td>2019</td>\n",
       "      <td>IA</td>\n",
       "      <td>Iowa</td>\n",
       "      <td>BRFSS</td>\n",
       "      <td>Overall Health</td>\n",
       "      <td>Arthritis among older adults</td>\n",
       "      <td>Percentage of older adults ever told they have...</td>\n",
       "      <td>%</td>\n",
       "      <td>PRCTG</td>\n",
       "      <td>...</td>\n",
       "      <td>Hispanic</td>\n",
       "      <td>POINT (-93.81649056 42.46940091)</td>\n",
       "      <td>C01</td>\n",
       "      <td>TOC11</td>\n",
       "      <td>Q43</td>\n",
       "      <td>19</td>\n",
       "      <td>AGE</td>\n",
       "      <td>5064</td>\n",
       "      <td>RACE</td>\n",
       "      <td>HIS</td>\n",
       "    </tr>\n",
       "    <tr>\n",
       "      <td>9</td>\n",
       "      <td>2018</td>\n",
       "      <td>2018</td>\n",
       "      <td>IA</td>\n",
       "      <td>Iowa</td>\n",
       "      <td>BRFSS</td>\n",
       "      <td>Overall Health</td>\n",
       "      <td>Fall with injury within last year</td>\n",
       "      <td>Percentage of older adults who have fallen and...</td>\n",
       "      <td>%</td>\n",
       "      <td>PRCTG</td>\n",
       "      <td>...</td>\n",
       "      <td>NaN</td>\n",
       "      <td>POINT (-93.81649056 42.46940091)</td>\n",
       "      <td>C01</td>\n",
       "      <td>TOC06</td>\n",
       "      <td>Q05</td>\n",
       "      <td>19</td>\n",
       "      <td>AGE</td>\n",
       "      <td>65PLUS</td>\n",
       "      <td>OVERALL</td>\n",
       "      <td>OVERALL</td>\n",
       "    </tr>\n",
       "  </tbody>\n",
       "</table>\n",
       "<p>10 rows × 29 columns</p>\n",
       "</div>"
      ],
      "text/plain": [
       "   YearStart  YearEnd LocationAbbr LocationDesc Datasource           Class  \\\n",
       "0       2020     2020           HI       Hawaii      BRFSS  Overall Health   \n",
       "1       2017     2017           ID        Idaho      BRFSS   Mental Health   \n",
       "2       2017     2017           ID        Idaho      BRFSS  Overall Health   \n",
       "3       2018     2018           ID        Idaho      BRFSS  Overall Health   \n",
       "4       2020     2020           IN      Indiana      BRFSS   Mental Health   \n",
       "5       2020     2020           IA         Iowa      BRFSS  Overall Health   \n",
       "6       2020     2020           IA         Iowa      BRFSS  Overall Health   \n",
       "7       2019     2019           IA         Iowa      BRFSS   Mental Health   \n",
       "8       2019     2019           IA         Iowa      BRFSS  Overall Health   \n",
       "9       2018     2018           IA         Iowa      BRFSS  Overall Health   \n",
       "\n",
       "                                               Topic  \\\n",
       "0                       Arthritis among older adults   \n",
       "1                   Lifetime diagnosis of depression   \n",
       "2                       Arthritis among older adults   \n",
       "3    Physically unhealthy days (mean number of days)   \n",
       "4                   Lifetime diagnosis of depression   \n",
       "5                     Prevalence of sufficient sleep   \n",
       "6  Fair or poor health among older adults with ar...   \n",
       "7                           Frequent mental distress   \n",
       "8                       Arthritis among older adults   \n",
       "9                  Fall with injury within last year   \n",
       "\n",
       "                                            Question Data_Value_Unit  \\\n",
       "0  Percentage of older adults ever told they have...               %   \n",
       "1  Percentage of older adults with a lifetime dia...               %   \n",
       "2  Percentage of older adults ever told they have...               %   \n",
       "3  Physically unhealthy days (mean number of days...          Number   \n",
       "4  Percentage of older adults with a lifetime dia...               %   \n",
       "5  Percentage of older adults getting sufficient ...               %   \n",
       "6  Fair or poor health among older adults with do...               %   \n",
       "7  Percentage of older adults who are experiencin...               %   \n",
       "8  Percentage of older adults ever told they have...               %   \n",
       "9  Percentage of older adults who have fallen and...               %   \n",
       "\n",
       "  DataValueTypeID  ... Stratification2                       Geolocation  \\\n",
       "0           PRCTG  ...             NaN  POINT (-157.8577494 21.30485044)   \n",
       "1           PRCTG  ...             NaN    POINT (-114.36373 43.68263001)   \n",
       "2           PRCTG  ...             NaN    POINT (-114.36373 43.68263001)   \n",
       "3            MEAN  ...             NaN    POINT (-114.36373 43.68263001)   \n",
       "4           PRCTG  ...            Male  POINT (-86.14996019 39.76691045)   \n",
       "5           PRCTG  ...             NaN  POINT (-93.81649056 42.46940091)   \n",
       "6           PRCTG  ...             NaN  POINT (-93.81649056 42.46940091)   \n",
       "7           PRCTG  ...             NaN  POINT (-93.81649056 42.46940091)   \n",
       "8           PRCTG  ...        Hispanic  POINT (-93.81649056 42.46940091)   \n",
       "9           PRCTG  ...             NaN  POINT (-93.81649056 42.46940091)   \n",
       "\n",
       "   ClassID TopicID QuestionID  LocationID StratificationCategoryID1  \\\n",
       "0      C01   TOC11        Q43          15                       AGE   \n",
       "1      C05   TMC03        Q27          16                       AGE   \n",
       "2      C01   TOC11        Q43          16                       AGE   \n",
       "3      C01   TOC01        Q08          16                       AGE   \n",
       "4      C05   TMC03        Q27          18                       AGE   \n",
       "5      C01   TOC09        Q34          19                       AGE   \n",
       "6      C01   TOC13        Q45          19                       AGE   \n",
       "7      C05   TMC01        Q03          19                       AGE   \n",
       "8      C01   TOC11        Q43          19                       AGE   \n",
       "9      C01   TOC06        Q05          19                       AGE   \n",
       "\n",
       "  StratificationID1 StratificationCategoryID2 StratificationID2  \n",
       "0              5064                   OVERALL           OVERALL  \n",
       "1              5064                   OVERALL           OVERALL  \n",
       "2              5064                   OVERALL           OVERALL  \n",
       "3              5064                   OVERALL           OVERALL  \n",
       "4       AGE_OVERALL                    GENDER              MALE  \n",
       "5       AGE_OVERALL                   OVERALL           OVERALL  \n",
       "6       AGE_OVERALL                   OVERALL           OVERALL  \n",
       "7       AGE_OVERALL                   OVERALL           OVERALL  \n",
       "8              5064                      RACE               HIS  \n",
       "9            65PLUS                   OVERALL           OVERALL  \n",
       "\n",
       "[10 rows x 29 columns]"
      ]
     },
     "execution_count": 4,
     "metadata": {},
     "output_type": "execute_result"
    }
   ],
   "source": [
    "df.head(10)"
   ]
  },
  {
   "cell_type": "code",
   "execution_count": 7,
   "metadata": {},
   "outputs": [
    {
     "name": "stdout",
     "output_type": "stream",
     "text": [
      "<class 'pandas.core.frame.DataFrame'>\n",
      "RangeIndex: 214462 entries, 0 to 214461\n",
      "Data columns (total 29 columns):\n",
      "YearStart                    214462 non-null int64\n",
      "YearEnd                      214462 non-null int64\n",
      "LocationAbbr                 214462 non-null object\n",
      "LocationDesc                 214462 non-null object\n",
      "Datasource                   214462 non-null object\n",
      "Class                        214462 non-null object\n",
      "Topic                        214462 non-null object\n",
      "Question                     214462 non-null object\n",
      "Data_Value_Unit              214462 non-null object\n",
      "DataValueTypeID              214462 non-null object\n",
      "Data_Value_Type              214462 non-null object\n",
      "Data_Value                   144629 non-null float64\n",
      "Data_Value_Alt               144629 non-null float64\n",
      "Low_Confidence_Limit         144472 non-null object\n",
      "High_Confidence_Limit        144472 non-null object\n",
      "Sample_Size                  0 non-null float64\n",
      "StratificationCategory1      214462 non-null object\n",
      "Stratification1              214462 non-null object\n",
      "StratificationCategory2      186793 non-null object\n",
      "Stratification2              186793 non-null object\n",
      "Geolocation                  191413 non-null object\n",
      "ClassID                      214462 non-null object\n",
      "TopicID                      214462 non-null object\n",
      "QuestionID                   214462 non-null object\n",
      "LocationID                   214462 non-null int64\n",
      "StratificationCategoryID1    214462 non-null object\n",
      "StratificationID1            214462 non-null object\n",
      "StratificationCategoryID2    214462 non-null object\n",
      "StratificationID2            214462 non-null object\n",
      "dtypes: float64(3), int64(3), object(23)\n",
      "memory usage: 47.5+ MB\n"
     ]
    }
   ],
   "source": [
    "df.info()"
   ]
  },
  {
   "cell_type": "markdown",
   "metadata": {},
   "source": [
    "## 3. 数据摘要和可视化\n",
    "### 3.1 标称属性\n",
    " 标称属性，给出每个可能取值的频数。该数据集中标称属性包括YearStart,YearEnd,LocationDesc,Datasource,Class,Topic,Data_Value_Unit,DataValueTypeID,StratificationCategory1,ClassID等"
   ]
  },
  {
   "cell_type": "code",
   "execution_count": 15,
   "metadata": {},
   "outputs": [
    {
     "data": {
      "text/plain": [
       "2015    45980\n",
       "2020    36006\n",
       "2019    34354\n",
       "2016    34145\n",
       "2017    33429\n",
       "2018    30548\n",
       "Name: YearStart, dtype: int64"
      ]
     },
     "execution_count": 15,
     "metadata": {},
     "output_type": "execute_result"
    }
   ],
   "source": [
    "df[\"YearStart\"].value_counts()"
   ]
  },
  {
   "cell_type": "code",
   "execution_count": 16,
   "metadata": {},
   "outputs": [
    {
     "data": {
      "text/plain": [
       "2020    46966\n",
       "2015    35020\n",
       "2019    34354\n",
       "2016    34145\n",
       "2017    33429\n",
       "2018    30548\n",
       "Name: YearEnd, dtype: int64"
      ]
     },
     "execution_count": 16,
     "metadata": {},
     "output_type": "execute_result"
    }
   ],
   "source": [
    "df[\"YearEnd\"].value_counts()"
   ]
  },
  {
   "cell_type": "code",
   "execution_count": 17,
   "metadata": {},
   "outputs": [
    {
     "data": {
      "text/plain": [
       "United States, DC & Territories    4644\n",
       "West                               4638\n",
       "Northeast                          4614\n",
       "Midwest                            4611\n",
       "Oregon                             4565\n",
       "New York                           4557\n",
       "South                              4542\n",
       "Utah                               4222\n",
       "Ohio                               3955\n",
       "Georgia                            3951\n",
       "Maryland                           3919\n",
       "Hawaii                             3907\n",
       "Tennessee                          3879\n",
       "Michigan                           3796\n",
       "Virginia                           3758\n",
       "Florida                            3753\n",
       "Maine                              3733\n",
       "Texas                              3699\n",
       "Nevada                             3696\n",
       "District of Columbia               3684\n",
       "West Virginia                      3682\n",
       "Mississippi                        3677\n",
       "Pennsylvania                       3648\n",
       "New Mexico                         3635\n",
       "Alabama                            3633\n",
       "Kentucky                           3623\n",
       "Alaska                             3611\n",
       "South Carolina                     3592\n",
       "New Jersey                         3589\n",
       "Arizona                            3582\n",
       "Missouri                           3573\n",
       "Illinois                           3571\n",
       "Indiana                            3570\n",
       "Wisconsin                          3569\n",
       "Louisiana                          3563\n",
       "Minnesota                          3555\n",
       "Nebraska                           3546\n",
       "Connecticut                        3543\n",
       "Rhode Island                       3534\n",
       "Oklahoma                           3526\n",
       "South Dakota                       3526\n",
       "North Dakota                       3514\n",
       "Kansas                             3510\n",
       "Idaho                              3507\n",
       "Iowa                               3501\n",
       "Arkansas                           3498\n",
       "Wyoming                            3494\n",
       "California                         3447\n",
       "Colorado                           3390\n",
       "North Carolina                     3349\n",
       "Montana                            3348\n",
       "Washington                         3348\n",
       "Delaware                           3346\n",
       "New Hampshire                      3284\n",
       "Vermont                            3278\n",
       "Massachusetts                      3174\n",
       "Puerto Rico                        2797\n",
       "Guam                               2703\n",
       "Virgin Islands                      503\n",
       "Name: LocationDesc, dtype: int64"
      ]
     },
     "execution_count": 17,
     "metadata": {},
     "output_type": "execute_result"
    }
   ],
   "source": [
    "df[\"LocationDesc\"].value_counts()"
   ]
  },
  {
   "cell_type": "code",
   "execution_count": 18,
   "metadata": {},
   "outputs": [
    {
     "data": {
      "text/plain": [
       "BRFSS    214462\n",
       "Name: Datasource, dtype: int64"
      ]
     },
     "execution_count": 18,
     "metadata": {},
     "output_type": "execute_result"
    }
   ],
   "source": [
    "df[\"Datasource\"].value_counts()"
   ]
  },
  {
   "cell_type": "code",
   "execution_count": 19,
   "metadata": {},
   "outputs": [
    {
     "data": {
      "text/plain": [
       "Overall Health                         71694\n",
       "Screenings and Vaccines                46867\n",
       "Nutrition/Physical Activity/Obesity    24851\n",
       "Cognitive Decline                      19180\n",
       "Caregiving                             18671\n",
       "Mental Health                          16600\n",
       "Smoking and Alcohol Use                16599\n",
       "Name: Class, dtype: int64"
      ]
     },
     "execution_count": 19,
     "metadata": {},
     "output_type": "execute_result"
    }
   ],
   "source": [
    "df[\"Class\"].value_counts()"
   ]
  },
  {
   "cell_type": "code",
   "execution_count": 20,
   "metadata": {},
   "outputs": [
    {
     "data": {
      "text/plain": [
       "Lifetime diagnosis of depression                                                                          8300\n",
       "No leisure-time physical activity within past month                                                       8300\n",
       "Frequent mental distress                                                                                  8300\n",
       "Obesity                                                                                                   8300\n",
       "Influenza vaccine within past year                                                                        8300\n",
       "Physically unhealthy days (mean number of days)                                                           8300\n",
       "Current smoking                                                                                           8300\n",
       "Self-rated health (fair to poor health)                                                                   8299\n",
       "Binge drinking within past 30 days                                                                        8299\n",
       "Self-rated health (good to excellent health)                                                              8299\n",
       "Ever had pneumococcal vaccine                                                                             8268\n",
       "Recent activity limitations in past month                                                                 8233\n",
       "Disability status, including sensory or mobility limitations                                              6917\n",
       "Arthritis among older adults                                                                              5511\n",
       "Fair or poor health among older adults with arthritis                                                     5447\n",
       "Subjective cognitive decline or memory loss among older adults                                            5088\n",
       "Diabetes screening within past 3 years                                                                    4808\n",
       "Talked with health care professional about subjective cognitive decline or memory loss                    4700\n",
       "Need assistance with day-to-day activities because of subjective cognitive decline or memory loss         4696\n",
       "Functional difficulties associated with subjective cognitive decline or memory loss among older adults    4696\n",
       "Fall with injury within last year                                                                         4173\n",
       "Colorectal cancer screening                                                                               4173\n",
       "Oral health:  tooth retention                                                                             4172\n",
       "Prevalence of sufficient sleep                                                                            4171\n",
       "Cholesterol checked in past 5 years                                                                       4127\n",
       "Eating 3 or more vegetables daily                                                                         4127\n",
       "High blood pressure ever                                                                                  4127\n",
       "Eating 2 or more fruits daily                                                                             4124\n",
       "Taking medication for high blood pressure                                                                 4108\n",
       "Severe joint pain among older adults with arthritis                                                       4064\n",
       "Provide care for a friend or family member in past month                                                  3848\n",
       "Expect to provide care for someone in the next two years                                                  3797\n",
       "Provide care for someone with cognitive impairment within the past month                                  3682\n",
       "Duration of caregiving among older adults                                                                 3681\n",
       "Intensity of caregiving among older adults                                                                3663\n",
       "Up-to-date with recommended vaccines and screenings - Women                                               3280\n",
       "Mammogram within past 2 years                                                                             3271\n",
       "Up-to-date with recommended vaccines and screenings - Men                                                 3271\n",
       "Pap test within past 3 years                                                                              3242\n",
       "Name: Topic, dtype: int64"
      ]
     },
     "execution_count": 20,
     "metadata": {},
     "output_type": "execute_result"
    }
   ],
   "source": [
    "df[\"Topic\"].value_counts()"
   ]
  },
  {
   "cell_type": "code",
   "execution_count": 21,
   "metadata": {},
   "outputs": [
    {
     "data": {
      "text/plain": [
       "Percentage of older adults who reported influenza vaccine within the past year                                                                                               8300\n",
       "Percentage of older adults who have smoked at least 100 cigarettes in their entire life and still smoke every day or some days                                               8300\n",
       "Percentage of older adults who are currently obese, with a body mass index (BMI) of 30 or more                                                                               8300\n",
       "Physically unhealthy days (mean number of days in past month)                                                                                                                8300\n",
       "Percentage of older adults who have not had any leisure time physical activity in the past month                                                                             8300\n",
       "Percentage of older adults with a lifetime diagnosis of depression                                                                                                           8300\n",
       "Percentage of older adults who are experiencing frequent mental distress                                                                                                     8300\n",
       "Percentage of older adults who self-reported that their health is \"good\", \"very good\", or \"excellent\"                                                                        8299\n",
       "Percentage of older adults who self-reported that their health is \"fair\" or \"poor\"                                                                                           8299\n",
       "Percentage of older adults who reported binge drinking within the past 30 days                                                                                               8299\n",
       "Percentage of at risk adults (have diabetes, asthma, cardiovascular disease or currently smoke) who ever had a pneumococcal vaccine                                          8268\n",
       "Mean number of days with activity limitations in the past month                                                                                                              8233\n",
       "Percentage of older adults who report having a disability (includes limitations related to sensory or mobility impairments or a physical, mental, or emotional condition)    6917\n",
       "Percentage of older adults ever told they have arthritis                                                                                                                     5511\n",
       "Fair or poor health among older adults with doctor-diagnosed arthritis                                                                                                       5447\n",
       "Percentage of older adults who reported subjective cognitive decline or memory loss that is happening more often or is getting worse in the preceding 12 months              5088\n",
       "Percentage of older adults without diabetes who reported a blood sugar or diabetes test within 3 years                                                                       4808\n",
       "Percentage of older adults with subjective cognitive decline or memory loss who reported talking with a health care professional about it                                    4700\n",
       "Percentage of older adults who reported subjective cognitive decline or memory loss that interferes with their ability to engage in social activities or household chores    4696\n",
       "Percentage of older adults who reported that as a result of subjective cognitive decline or memory loss that they need assistance with day-to-day activities                 4696\n",
       "Percentage of older adults who had either a home blood stool test within the past year or a sigmoidoscopy or colonoscopy within the past 10 years                            4173\n",
       "Percentage of older adults who have fallen and sustained an injury within last year                                                                                          4173\n",
       "Percentage of older adults who report having lost 5 or fewer teeth due to decay or gum disease                                                                               4172\n",
       "Percentage of older adults getting sufficient sleep (>6 hours)                                                                                                               4171\n",
       "Percentage of older adults who had a cholesterol screening within the past 5 years                                                                                           4127\n",
       "Percentage of older adults who are eating 3 or more vegetables daily                                                                                                         4127\n",
       "Percentage of older adults who have ever been told by a health professional that they have high blood pressure                                                               4127\n",
       "Percentage of older adults who are eating 2 or more fruits daily                                                                                                             4124\n",
       "Percentage of older adults who have been told they have high blood pressure who report currently taking medication for their high blood pressure                             4108\n",
       "Severe joint pain due to arthritis among older adults with doctor-diagnosed arthritis                                                                                        4064\n",
       "Percentage of older adults who provided care for a friend or family member within the past month                                                                             3848\n",
       "Percentage of older adults currently not providing care who expect to provide care for someone with health problems in the next two years                                    3797\n",
       "Percentage of older adults who provided care for someone with dementia or other cognitive impairment within the past month                                                   3682\n",
       "Percentage of older adults who provided care to a friend or family member for six months or more                                                                             3681\n",
       "Average of 20 or more hours of care per week provided to a friend or family member                                                                                           3663\n",
       "Percentage of older adult women who are up to date with select clinical preventive services                                                                                  3280\n",
       "Percentage of older adult men who are up to date with select clinical preventive services                                                                                    3271\n",
       "Percentage of older adult women who have received a mammogram within the past 2 years                                                                                        3271\n",
       "Percentage of older adult women with an intact cervix who had a Pap test within the past 3 years                                                                             3242\n",
       "Name: Question, dtype: int64"
      ]
     },
     "execution_count": 21,
     "metadata": {},
     "output_type": "execute_result"
    }
   ],
   "source": [
    "df[\"Question\"].value_counts()"
   ]
  },
  {
   "cell_type": "code",
   "execution_count": 22,
   "metadata": {},
   "outputs": [
    {
     "data": {
      "text/plain": [
       "%         197929\n",
       "Number     16533\n",
       "Name: Data_Value_Unit, dtype: int64"
      ]
     },
     "execution_count": 22,
     "metadata": {},
     "output_type": "execute_result"
    }
   ],
   "source": [
    "df[\"Data_Value_Unit\"].value_counts()"
   ]
  },
  {
   "cell_type": "code",
   "execution_count": 23,
   "metadata": {},
   "outputs": [
    {
     "data": {
      "text/plain": [
       "Percentage    197929\n",
       "Mean           16533\n",
       "Name: Data_Value_Type, dtype: int64"
      ]
     },
     "execution_count": 23,
     "metadata": {},
     "output_type": "execute_result"
    }
   ],
   "source": [
    "df[\"Data_Value_Type\"].value_counts()"
   ]
  },
  {
   "cell_type": "code",
   "execution_count": 24,
   "metadata": {},
   "outputs": [
    {
     "data": {
      "text/plain": [
       "Age Group    214462\n",
       "Name: StratificationCategory1, dtype: int64"
      ]
     },
     "execution_count": 24,
     "metadata": {},
     "output_type": "execute_result"
    }
   ],
   "source": [
    "df[\"StratificationCategory1\"].value_counts()"
   ]
  },
  {
   "cell_type": "code",
   "execution_count": 25,
   "metadata": {},
   "outputs": [
    {
     "data": {
      "text/plain": [
       "Overall              71919\n",
       "50-64 years          71528\n",
       "65 years or older    71015\n",
       "Name: Stratification1, dtype: int64"
      ]
     },
     "execution_count": 25,
     "metadata": {},
     "output_type": "execute_result"
    }
   ],
   "source": [
    "df[\"Stratification1\"].value_counts()"
   ]
  },
  {
   "cell_type": "code",
   "execution_count": 26,
   "metadata": {},
   "outputs": [
    {
     "data": {
      "text/plain": [
       "Race/Ethnicity    134959\n",
       "Gender             51834\n",
       "Name: StratificationCategory2, dtype: int64"
      ]
     },
     "execution_count": 26,
     "metadata": {},
     "output_type": "execute_result"
    }
   ],
   "source": [
    "df[\"StratificationCategory2\"].value_counts()"
   ]
  },
  {
   "cell_type": "code",
   "execution_count": 27,
   "metadata": {},
   "outputs": [
    {
     "data": {
      "text/plain": [
       "White, non-Hispanic         27633\n",
       "Hispanic                    27525\n",
       "Black, non-Hispanic         26968\n",
       "Native Am/Alaskan Native    26571\n",
       "Asian/Pacific Islander      26262\n",
       "Female                      26091\n",
       "Male                        25743\n",
       "Name: Stratification2, dtype: int64"
      ]
     },
     "execution_count": 27,
     "metadata": {},
     "output_type": "execute_result"
    }
   ],
   "source": [
    "df[\"Stratification2\"].value_counts()"
   ]
  },
  {
   "cell_type": "markdown",
   "metadata": {},
   "source": [
    "### 3.2 数值属性\n",
    "数值属性，给出5数概括及缺失值的个数。本数据集中包括Data_Value，Data_Value_Alt，Low_Confidence_Limit，High_Confidence_Limit"
   ]
  },
  {
   "cell_type": "code",
   "execution_count": 28,
   "metadata": {},
   "outputs": [
    {
     "name": "stdout",
     "output_type": "stream",
     "text": [
      "count    144629.000000\n",
      "mean         37.341956\n",
      "std          25.183017\n",
      "min           0.000000\n",
      "25%          15.300000\n",
      "50%          32.500000\n",
      "75%          56.800000\n",
      "max         100.000000\n",
      "Name: Data_Value, dtype: float64\n",
      "缺失值的个数为：69833\n",
      "\n"
     ]
    }
   ],
   "source": [
    "print(df['Data_Value'].describe())\n",
    "print('缺失值的个数为：%d\\n'% df['Data_Value'].isnull().sum())"
   ]
  },
  {
   "cell_type": "code",
   "execution_count": 30,
   "metadata": {},
   "outputs": [
    {
     "data": {
      "text/plain": [
       "<matplotlib.axes._subplots.AxesSubplot at 0x174edcecc08>"
      ]
     },
     "execution_count": 30,
     "metadata": {},
     "output_type": "execute_result"
    },
    {
     "data": {
      "image/png": "[encoded data removed]",
      "text/plain": [
       "<Figure size 864x360 with 1 Axes>"
      ]
     },
     "metadata": {
      "needs_background": "light"
     },
     "output_type": "display_data"
    }
   ],
   "source": [
    "df['Data_Value'].plot(kind=\"hist\",figsize=(12,5))"
   ]
  },
  {
   "cell_type": "code",
   "execution_count": 31,
   "metadata": {},
   "outputs": [
    {
     "data": {
      "text/plain": [
       "<matplotlib.axes._subplots.AxesSubplot at 0x174801a0ec8>"
      ]
     },
     "execution_count": 31,
     "metadata": {},
     "output_type": "execute_result"
    },
    {
     "data": {
      "image/png": "[encoded data removed]",
      "text/plain": [
       "<Figure size 864x720 with 1 Axes>"
      ]
     },
     "metadata": {
      "needs_background": "light"
     },
     "output_type": "display_data"
    }
   ],
   "source": [
    "df['Data_Value'].plot(kind=\"box\",figsize=(12,10))"
   ]
  },
  {
   "cell_type": "code",
   "execution_count": 29,
   "metadata": {},
   "outputs": [
    {
     "name": "stdout",
     "output_type": "stream",
     "text": [
      "count    144629.000000\n",
      "mean         37.341956\n",
      "std          25.183017\n",
      "min           0.000000\n",
      "25%          15.300000\n",
      "50%          32.500000\n",
      "75%          56.800000\n",
      "max         100.000000\n",
      "Name: Data_Value_Alt, dtype: float64\n",
      "缺失值的个数为：69833\n",
      "\n"
     ]
    }
   ],
   "source": [
    "print(df['Data_Value_Alt'].describe())\n",
    "print('缺失值的个数为：%d\\n'% df['Data_Value_Alt'].isnull().sum())"
   ]
  },
  {
   "cell_type": "code",
   "execution_count": 32,
   "metadata": {},
   "outputs": [
    {
     "data": {
      "text/plain": [
       "<matplotlib.axes._subplots.AxesSubplot at 0x174800908c8>"
      ]
     },
     "execution_count": 32,
     "metadata": {},
     "output_type": "execute_result"
    },
    {
     "data": {
      "image/png": "[encoded data removed]",
      "text/plain": [
       "<Figure size 864x360 with 1 Axes>"
      ]
     },
     "metadata": {
      "needs_background": "light"
     },
     "output_type": "display_data"
    }
   ],
   "source": [
    "df['Data_Value_Alt'].plot(kind=\"hist\",figsize=(12,5))"
   ]
  },
  {
   "cell_type": "code",
   "execution_count": 33,
   "metadata": {},
   "outputs": [
    {
     "data": {
      "text/plain": [
       "<matplotlib.axes._subplots.AxesSubplot at 0x17480102708>"
      ]
     },
     "execution_count": 33,
     "metadata": {},
     "output_type": "execute_result"
    },
    {
     "data": {
      "image/png": "[encoded data removed]",
      "text/plain": [
       "<Figure size 864x720 with 1 Axes>"
      ]
     },
     "metadata": {
      "needs_background": "light"
     },
     "output_type": "display_data"
    }
   ],
   "source": [
    "df['Data_Value_Alt'].plot(kind=\"box\",figsize=(12,10))"
   ]
  },
  {
   "cell_type": "code",
   "execution_count": 37,
   "metadata": {},
   "outputs": [
    {
     "name": "stdout",
     "output_type": "stream",
     "text": [
      "count    144453.000000\n",
      "mean         32.736785\n",
      "std          24.231769\n",
      "min           0.000000\n",
      "25%          12.000000\n",
      "50%          26.900000\n",
      "75%          49.100000\n",
      "max          99.600000\n",
      "Name: Low_Confidence_Limit, dtype: float64\n",
      "缺失值的个数为：70009\n",
      "\n"
     ]
    }
   ],
   "source": [
    "df['Low_Confidence_Limit'] = pd.to_numeric(df['Low_Confidence_Limit'],errors='coerce')\n",
    "print(df['Low_Confidence_Limit'].describe())\n",
    "print('缺失值的个数为：%d\\n'% df['Low_Confidence_Limit'].isnull().sum())"
   ]
  },
  {
   "cell_type": "code",
   "execution_count": 38,
   "metadata": {
    "scrolled": true
   },
   "outputs": [
    {
     "data": {
      "text/plain": [
       "<matplotlib.axes._subplots.AxesSubplot at 0x17480636c88>"
      ]
     },
     "execution_count": 38,
     "metadata": {},
     "output_type": "execute_result"
    },
    {
     "data": {
      "image/png": "[encoded data removed]",
      "text/plain": [
       "<Figure size 864x360 with 1 Axes>"
      ]
     },
     "metadata": {
      "needs_background": "light"
     },
     "output_type": "display_data"
    }
   ],
   "source": [
    "df['Low_Confidence_Limit'].plot(kind=\"hist\",figsize=(12,5))"
   ]
  },
  {
   "cell_type": "code",
   "execution_count": 39,
   "metadata": {},
   "outputs": [
    {
     "data": {
      "text/plain": [
       "<matplotlib.axes._subplots.AxesSubplot at 0x174806aac88>"
      ]
     },
     "execution_count": 39,
     "metadata": {},
     "output_type": "execute_result"
    },
    {
     "data": {
      "image/png": "[encoded data removed]",
      "text/plain": [
       "<Figure size 864x720 with 1 Axes>"
      ]
     },
     "metadata": {
      "needs_background": "light"
     },
     "output_type": "display_data"
    }
   ],
   "source": [
    "df['Low_Confidence_Limit'].plot(kind=\"box\",figsize=(12,10))"
   ]
  },
  {
   "cell_type": "code",
   "execution_count": 40,
   "metadata": {},
   "outputs": [
    {
     "name": "stdout",
     "output_type": "stream",
     "text": [
      "count    144453.000000\n",
      "mean         42.244436\n",
      "std          26.172356\n",
      "min           1.400000\n",
      "25%          19.000000\n",
      "50%          38.500000\n",
      "75%          64.700000\n",
      "max         100.000000\n",
      "Name: High_Confidence_Limit, dtype: float64\n",
      "缺失值的个数为：70009\n",
      "\n"
     ]
    }
   ],
   "source": [
    "df['High_Confidence_Limit'] = pd.to_numeric(df['High_Confidence_Limit'],errors='coerce')\n",
    "print(df['High_Confidence_Limit'].describe())\n",
    "print('缺失值的个数为：%d\\n'% df['High_Confidence_Limit'].isnull().sum())"
   ]
  },
  {
   "cell_type": "code",
   "execution_count": 41,
   "metadata": {
    "scrolled": true
   },
   "outputs": [
    {
     "data": {
      "text/plain": [
       "<matplotlib.axes._subplots.AxesSubplot at 0x1748070f688>"
      ]
     },
     "execution_count": 41,
     "metadata": {},
     "output_type": "execute_result"
    },
    {
     "data": {
      "image/png": "[encoded data removed]",
      "text/plain": [
       "<Figure size 864x360 with 1 Axes>"
      ]
     },
     "metadata": {
      "needs_background": "light"
     },
     "output_type": "display_data"
    }
   ],
   "source": [
    "df['High_Confidence_Limit'].plot(kind=\"hist\",figsize=(12,5))"
   ]
  },
  {
   "cell_type": "code",
   "execution_count": 42,
   "metadata": {},
   "outputs": [
    {
     "data": {
      "text/plain": [
       "<matplotlib.axes._subplots.AxesSubplot at 0x17480767c48>"
      ]
     },
     "execution_count": 42,
     "metadata": {},
     "output_type": "execute_result"
    },
    {
     "data": {
      "image/png": "[encoded data removed]",
      "text/plain": [
       "<Figure size 864x720 with 1 Axes>"
      ]
     },
     "metadata": {
      "needs_background": "light"
     },
     "output_type": "display_data"
    }
   ],
   "source": [
    "df['High_Confidence_Limit'].plot(kind=\"box\",figsize=(12,10))"
   ]
  },
  {
   "cell_type": "markdown",
   "metadata": {},
   "source": [
    "## 4 数据缺失的处理"
   ]
  },
  {
   "cell_type": "code",
   "execution_count": 43,
   "metadata": {},
   "outputs": [
    {
     "name": "stdout",
     "output_type": "stream",
     "text": [
      "<class 'pandas.core.frame.DataFrame'>\n",
      "RangeIndex: 214462 entries, 0 to 214461\n",
      "Data columns (total 29 columns):\n",
      "YearStart                    214462 non-null int64\n",
      "YearEnd                      214462 non-null int64\n",
      "LocationAbbr                 214462 non-null object\n",
      "LocationDesc                 214462 non-null object\n",
      "Datasource                   214462 non-null object\n",
      "Class                        214462 non-null object\n",
      "Topic                        214462 non-null object\n",
      "Question                     214462 non-null object\n",
      "Data_Value_Unit              214462 non-null object\n",
      "DataValueTypeID              214462 non-null object\n",
      "Data_Value_Type              214462 non-null object\n",
      "Data_Value                   144629 non-null float64\n",
      "Data_Value_Alt               144629 non-null float64\n",
      "Low_Confidence_Limit         144453 non-null float64\n",
      "High_Confidence_Limit        144453 non-null float64\n",
      "Sample_Size                  0 non-null float64\n",
      "StratificationCategory1      214462 non-null object\n",
      "Stratification1              214462 non-null object\n",
      "StratificationCategory2      186793 non-null object\n",
      "Stratification2              186793 non-null object\n",
      "Geolocation                  191413 non-null object\n",
      "ClassID                      214462 non-null object\n",
      "TopicID                      214462 non-null object\n",
      "QuestionID                   214462 non-null object\n",
      "LocationID                   214462 non-null int64\n",
      "StratificationCategoryID1    214462 non-null object\n",
      "StratificationID1            214462 non-null object\n",
      "StratificationCategoryID2    214462 non-null object\n",
      "StratificationID2            214462 non-null object\n",
      "dtypes: float64(5), int64(3), object(21)\n",
      "memory usage: 47.5+ MB\n"
     ]
    }
   ],
   "source": [
    "df.info()"
   ]
  },
  {
   "cell_type": "markdown",
   "metadata": {},
   "source": [
    "该数据集的数据缺失可能是由于在往数据集中添加数据时发生了遗漏"
   ]
  },
  {
   "cell_type": "markdown",
   "metadata": {},
   "source": [
    "采取将缺失部分剔除的策略"
   ]
  },
  {
   "cell_type": "code",
   "execution_count": 44,
   "metadata": {},
   "outputs": [
    {
     "name": "stdout",
     "output_type": "stream",
     "text": [
      "<class 'pandas.core.frame.DataFrame'>\n",
      "Int64Index: 144629 entries, 0 to 214460\n",
      "Data columns (total 29 columns):\n",
      "YearStart                    144629 non-null int64\n",
      "YearEnd                      144629 non-null int64\n",
      "LocationAbbr                 144629 non-null object\n",
      "LocationDesc                 144629 non-null object\n",
      "Datasource                   144629 non-null object\n",
      "Class                        144629 non-null object\n",
      "Topic                        144629 non-null object\n",
      "Question                     144629 non-null object\n",
      "Data_Value_Unit              144629 non-null object\n",
      "DataValueTypeID              144629 non-null object\n",
      "Data_Value_Type              144629 non-null object\n",
      "Data_Value                   144629 non-null float64\n",
      "Data_Value_Alt               144629 non-null float64\n",
      "Low_Confidence_Limit         144453 non-null float64\n",
      "High_Confidence_Limit        144453 non-null float64\n",
      "Sample_Size                  0 non-null float64\n",
      "StratificationCategory1      144629 non-null object\n",
      "Stratification1              144629 non-null object\n",
      "StratificationCategory2      117033 non-null object\n",
      "Stratification2              117033 non-null object\n",
      "Geolocation                  121909 non-null object\n",
      "ClassID                      144629 non-null object\n",
      "TopicID                      144629 non-null object\n",
      "QuestionID                   144629 non-null object\n",
      "LocationID                   144629 non-null int64\n",
      "StratificationCategoryID1    144629 non-null object\n",
      "StratificationID1            144629 non-null object\n",
      "StratificationCategoryID2    144629 non-null object\n",
      "StratificationID2            144629 non-null object\n",
      "dtypes: float64(5), int64(3), object(21)\n",
      "memory usage: 33.1+ MB\n"
     ]
    }
   ],
   "source": [
    "df=df.dropna(subset=['Data_Value'])\n",
    "df.info()"
   ]
  },
  {
   "cell_type": "code",
   "execution_count": 45,
   "metadata": {},
   "outputs": [
    {
     "name": "stdout",
     "output_type": "stream",
     "text": [
      "YearStart                         0\n",
      "YearEnd                           0\n",
      "LocationAbbr                      0\n",
      "LocationDesc                      0\n",
      "Datasource                        0\n",
      "Class                             0\n",
      "Topic                             0\n",
      "Question                          0\n",
      "Data_Value_Unit                   0\n",
      "DataValueTypeID                   0\n",
      "Data_Value_Type                   0\n",
      "Data_Value                        0\n",
      "Data_Value_Alt                    0\n",
      "Low_Confidence_Limit            176\n",
      "High_Confidence_Limit           176\n",
      "Sample_Size                  144629\n",
      "StratificationCategory1           0\n",
      "Stratification1                   0\n",
      "StratificationCategory2       27596\n",
      "Stratification2               27596\n",
      "Geolocation                   22720\n",
      "ClassID                           0\n",
      "TopicID                           0\n",
      "QuestionID                        0\n",
      "LocationID                        0\n",
      "StratificationCategoryID1         0\n",
      "StratificationID1                 0\n",
      "StratificationCategoryID2         0\n",
      "StratificationID2                 0\n",
      "dtype: int64\n"
     ]
    }
   ],
   "source": [
    "print(df.isnull().sum())"
   ]
  },
  {
   "cell_type": "markdown",
   "metadata": {},
   "source": [
    "可以看出，处理后Data_Value_Alt属性不再有缺失，Low_Confidence_Limit和High_Confidence_Limit依然存在一定缺失。"
   ]
  }
 ],
 "metadata": {
  "kernelspec": {
   "display_name": "Python 3 (ipykernel)",
   "language": "python",
   "name": "python3"
  },
  "language_info": {
   "codemirror_mode": {
    "name": "ipython",
    "version": 3
   },
   "file_extension": ".py",
   "mimetype": "text/x-python",
   "name": "python",
   "nbconvert_exporter": "python",
   "pygments_lexer": "ipython3",
   "version": "3.9.10"
  },
  "varInspector": {
   "cols": {
    "lenName": 16,
    "lenType": 16,
    "lenVar": 40
   },
   "kernels_config": {
    "python": {
     "delete_cmd_postfix": "",
     "delete_cmd_prefix": "del ",
     "library": "var_list.py",
     "varRefreshCmd": "print(var_dic_list())"
    },
    "r": {
     "delete_cmd_postfix": ") ",
     "delete_cmd_prefix": "rm(",
     "library": "var_list.r",
     "varRefreshCmd": "cat(var_dic_list()) "
    }
   },
   "types_to_exclude": [
    "module",
    "function",
    "builtin_function_or_method",
    "instance",
    "_Feature"
   ],
   "window_display": false
  }
 },
 "nbformat": 4,
 "nbformat_minor": 2
}
